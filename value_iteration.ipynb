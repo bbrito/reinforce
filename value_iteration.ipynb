{
 "cells": [
  {
   "cell_type": "code",
   "execution_count": 1,
   "metadata": {
    "collapsed": true
   },
   "outputs": [],
   "source": [
    "# simplified 1d version of gridworld example\n",
    "def move(action, state):\n",
    "    \"\"\"determininistic transition\"\"\"\n",
    "    # terminal\n",
    "    if state in (0, state_size - 1):\n",
    "        return state\n",
    "    # left\n",
    "    if action == 0:\n",
    "        return state - 1\n",
    "    # right\n",
    "    else:\n",
    "        return state + 1\n",
    "\n",
    "def reward(action, state):\n",
    "    \"\"\"deterministic reward\"\"\"\n",
    "    # terminal\n",
    "    if state in (0, state_size - 1):\n",
    "        return 0\n",
    "    # non-terminal\n",
    "    else:\n",
    "        return -1"
   ]
  },
  {
   "cell_type": "code",
   "execution_count": 2,
   "metadata": {
    "collapsed": false
   },
   "outputs": [
    {
     "name": "stdout",
     "output_type": "stream",
     "text": [
      "value [0 0 0 0 0 0 0 0 0 0]\n",
      "policy [1 1 1 0 1 0 1 0 1 0]\n",
      "value [ 0 -1 -1 -2 -1 -2 -1 -2 -1  0]\n",
      "policy [0 0 0 0 0 0 0 0 1 0]\n",
      "value [ 0 -1 -2 -3 -4 -5 -6 -7 -1  0]\n",
      "policy [0 0 0 0 0 0 0 1 1 0]\n",
      "value [ 0 -1 -2 -3 -4 -5 -6 -2 -1  0]\n",
      "policy [0 0 0 0 0 0 1 1 1 0]\n",
      "value [ 0 -1 -2 -3 -4 -5 -3 -2 -1  0]\n",
      "policy [0 0 0 0 0 1 1 1 1 0]\n",
      "value [ 0 -1 -2 -3 -4 -4 -3 -2 -1  0]\n",
      "policy [0 0 0 0 0 1 1 1 1 0]\n",
      "value [ 0 -1 -2 -3 -4 -4 -3 -2 -1  0]\n",
      "policy [0 0 0 0 0 1 1 1 1 0]\n",
      "value [ 0 -1 -2 -3 -4 -4 -3 -2 -1  0]\n",
      "policy [0 0 0 0 0 1 1 1 1 0]\n",
      "value [ 0 -1 -2 -3 -4 -4 -3 -2 -1  0]\n",
      "policy [0 0 0 0 0 1 1 1 1 0]\n",
      "value [ 0 -1 -2 -3 -4 -4 -3 -2 -1  0]\n",
      "policy [0 0 0 0 0 1 1 1 1 0]\n"
     ]
    }
   ],
   "source": [
    "import numpy as np\n",
    "state_size = 10\n",
    "action_size = 2\n",
    "iteration = 10\n",
    "evaluation = 1\n",
    "improvement = 1\n",
    "\n",
    "\n",
    "value = np.zeros(state_size, dtype=np.int32)\n",
    "policy = np.random.randint(0, 2, state_size)\n",
    "\n",
    "# policy iteration\n",
    "for i in range(iteration):\n",
    "    print('value', value)\n",
    "    print('policy', policy)\n",
    "\n",
    "    # policy evaluation\n",
    "    for j in range(evaluation):\n",
    "        for state in range(state_size):\n",
    "            action = policy[state]\n",
    "            value[state] = reward(action, state) + value[move(action, state)]\n",
    "        \n",
    "    # policy improvement\n",
    "    for k in range(improvement):\n",
    "        for state in range(state_size):\n",
    "            policy[state] = np.argmax([reward(action, state) + value[move(action, state)] for action in range(action_size)])"
   ]
  }
 ],
 "metadata": {
  "kernelspec": {
   "display_name": "Python 3",
   "language": "python",
   "name": "python3"
  },
  "language_info": {
   "codemirror_mode": {
    "name": "ipython",
    "version": 3
   },
   "file_extension": ".py",
   "mimetype": "text/x-python",
   "name": "python",
   "nbconvert_exporter": "python",
   "pygments_lexer": "ipython3",
   "version": "3.5.1"
  }
 },
 "nbformat": 4,
 "nbformat_minor": 0
}
