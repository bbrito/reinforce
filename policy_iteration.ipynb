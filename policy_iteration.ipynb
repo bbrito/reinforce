{
 "cells": [
  {
   "cell_type": "code",
   "execution_count": 1,
   "metadata": {
    "collapsed": false
   },
   "outputs": [
    {
     "name": "stdout",
     "output_type": "stream",
     "text": [
      "policy [ 0.  0.  0.  0.  0.  1.  1.  1.  1.  0.]\n",
      "value [ 0. -1. -2. -3. -4. -4. -3. -2. -1.  0.]\n"
     ]
    }
   ],
   "source": [
    "# simplified 1d version of gridworld example\n",
    "import numpy as np\n",
    "state_size = 10\n",
    "action_size = 2\n",
    "iteration = 10\n",
    "evaluation = 10\n",
    "improvement = 10\n",
    "\n",
    "def move(action, state):\n",
    "    # terminal\n",
    "    if state in (0, state_size - 1):\n",
    "        return state\n",
    "    # left\n",
    "    if action == 0:\n",
    "        return state - 1\n",
    "    # right\n",
    "    else:\n",
    "        return state + 1\n",
    "\n",
    "def reward(action, state):\n",
    "    # terminal\n",
    "    if state in (0, state_size - 1):\n",
    "        return 0\n",
    "    # non-terminal\n",
    "    else:\n",
    "        return -1\n",
    "\n",
    "policy = np.zeros(state_size)\n",
    "value = np.zeros(state_size)\n",
    "\n",
    "# policy iteration\n",
    "for i in range(iteration):\n",
    "    # policy evaluation\n",
    "    for j in range(evaluation):\n",
    "        for state in range(state_size):\n",
    "            action = policy[state]\n",
    "            value[state] = reward(action, state) + value[move(action, state)]\n",
    "            \n",
    "    # policy improvement\n",
    "    for k in range(improvement):\n",
    "        for state in range(state_size):\n",
    "            policy[state] = np.argmax([reward(action, state) + value[move(action, state)] for action in range(action_size)])\n",
    "            \n",
    "print('policy', policy)\n",
    "print('value', value)"
   ]
  }
 ],
 "metadata": {
  "kernelspec": {
   "display_name": "Python 3",
   "language": "python",
   "name": "python3"
  },
  "language_info": {
   "codemirror_mode": {
    "name": "ipython",
    "version": 3
   },
   "file_extension": ".py",
   "mimetype": "text/x-python",
   "name": "python",
   "nbconvert_exporter": "python",
   "pygments_lexer": "ipython3",
   "version": "3.5.1"
  }
 },
 "nbformat": 4,
 "nbformat_minor": 0
}
