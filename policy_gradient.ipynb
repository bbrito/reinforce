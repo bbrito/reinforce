{
 "cells": [
  {
   "cell_type": "code",
   "execution_count": 1,
   "metadata": {
    "collapsed": true
   },
   "outputs": [],
   "source": [
    "# Example 13.1 Short corridor with switched actions\n",
    "def move(action, state):\n",
    "    # terminal\n",
    "    if state in (0, 4):\n",
    "        return state\n",
    "\n",
    "    # switch left and right at state 2\n",
    "    if state == 2:\n",
    "        return state + (action * 2 - 1)\n",
    "    \n",
    "    # default\n",
    "    return state - (action * 2 - 1)\n",
    "\n",
    "def get_reward(action, state):\n",
    "    # terminal\n",
    "    if state in (0, 4):\n",
    "        return 0\n",
    "    # non-terminal\n",
    "    else:\n",
    "        return -1"
   ]
  },
  {
   "cell_type": "code",
   "execution_count": 2,
   "metadata": {
    "collapsed": true
   },
   "outputs": [],
   "source": [
    "# Agent definitions\n",
    "import numpy as np\n",
    "from scipy.special import expit\n",
    "\n",
    "def get_probability(policy):\n",
    "    return expit(policy[0] - policy[1])\n",
    "\n",
    "def sample_action(policy):\n",
    "    probability = get_probability(policy)\n",
    "    return np.random.choice(2, p=[probability, 1 - probability])\n",
    "\n",
    "def get_gradient(policy, action):\n",
    "    probability = get_probability(policy)\n",
    "    return (probability + action - 1) * np.array([-1, 1])"
   ]
  },
  {
   "cell_type": "code",
   "execution_count": 3,
   "metadata": {
    "collapsed": true
   },
   "outputs": [],
   "source": [
    "# Policy gradient methods\n",
    "def generate_episode(policy, steps):\n",
    "    state = 2\n",
    "    rewards = []\n",
    "    actions = []\n",
    "    for step in range(steps):\n",
    "        action = sample_action(policy)\n",
    "        reward = get_reward(action, state)\n",
    "        state = move(action, state)\n",
    "\n",
    "        actions.append(action)\n",
    "        rewards.append(reward)\n",
    "    return actions, rewards\n",
    "\n",
    "def update_policy(policy, actions, rewards, steps, learning_rate):\n",
    "    for step in range(steps):\n",
    "        total_reward = sum(rewards[step:])\n",
    "        gradient = get_gradient(policy, actions[step])\n",
    "        policy += learning_rate * total_reward * gradient\n",
    "    return policy"
   ]
  },
  {
   "cell_type": "code",
   "execution_count": 4,
   "metadata": {
    "collapsed": false
   },
   "outputs": [],
   "source": [
    "# run experiments\n",
    "experiments = 1000\n",
    "episodes = 1000\n",
    "steps = 10\n",
    "learning_rate = 0.01\n",
    "results = []\n",
    "\n",
    "for experiment in range(experiments):\n",
    "    policy = (np.random.rand(2) - 0.5) * 20\n",
    "    result = []\n",
    "    for episode in range(episodes):\n",
    "        actions, rewards = generate_episode(policy, steps)\n",
    "        result.append(sum(rewards))\n",
    "        policy = update_policy(policy, actions, rewards, steps, learning_rate)\n",
    "    results.append(result)"
   ]
  },
  {
   "cell_type": "code",
   "execution_count": 5,
   "metadata": {
    "collapsed": false
   },
   "outputs": [
    {
     "data": {
      "image/png": "[encoded data removed]",
      "text/plain": [
       "<matplotlib.figure.Figure at 0x103e0a550>"
      ]
     },
     "metadata": {},
     "output_type": "display_data"
    }
   ],
   "source": [
    "# plot average rewards per episodes\n",
    "%matplotlib inline\n",
    "import matplotlib.pyplot as plt\n",
    "\n",
    "average_rewards = np.average(np.array(results), 0)\n",
    "plt.plot(average_rewards)\n",
    "plt.show()"
   ]
  }
 ],
 "metadata": {
  "kernelspec": {
   "display_name": "Python 3",
   "language": "python",
   "name": "python3"
  },
  "language_info": {
   "codemirror_mode": {
    "name": "ipython",
    "version": 3
   },
   "file_extension": ".py",
   "mimetype": "text/x-python",
   "name": "python",
   "nbconvert_exporter": "python",
   "pygments_lexer": "ipython3",
   "version": "3.5.1"
  }
 },
 "nbformat": 4,
 "nbformat_minor": 0
}
